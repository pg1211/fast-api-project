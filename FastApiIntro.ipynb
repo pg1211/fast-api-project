{
 "cells": [
  {
   "cell_type": "markdown",
   "id": "299a5339",
   "metadata": {},
   "source": [
    "# Table of Contents\n",
    "\n",
    "- [Types](#types)\n",
    "- [Concurrency](#concurrency)\n",
    "- [Environment Variables](#environment-variables)\n",
    "- [Virtual Environments](#virtual-environments)"
   ]
  },
  {
   "cell_type": "markdown",
   "id": "0a4a8848",
   "metadata": {},
   "source": [
    "# Types\n",
    "\n",
    "In this section, I will be running through how typing is using in FastAPI development.\n"
   ]
  },
  {
   "cell_type": "markdown",
   "id": "40e46d08",
   "metadata": {
    "vscode": {
     "languageId": "plaintext"
    }
   },
   "source": [
    "## What is Type Hinting?\n",
    "\n",
    "Observe the two following function definitions:"
   ]
  },
  {
   "cell_type": "code",
   "execution_count": 1,
   "id": "220154eb",
   "metadata": {},
   "outputs": [],
   "source": [
    "# definition 1:\n",
    "def addition(a, b):\n",
    "  return a + b\n",
    "\n",
    "# definition 2:\n",
    "def addition_with_types(a: int, b: int):\n",
    "  return a + b"
   ]
  },
  {
   "cell_type": "markdown",
   "id": "1bbfe989",
   "metadata": {},
   "source": [
    "What's the difference? The **type hints**!\n",
    "\n",
    "stating that `a: int` allows us to specify that a *must* be an integer. This allows us to do a number of things, most notably in **autocomplete** and **error checking**. Note that you can also include generic types in type hints, such as the following:"
   ]
  },
  {
   "cell_type": "code",
   "execution_count": 2,
   "id": "7e2368b6",
   "metadata": {},
   "outputs": [
    {
     "data": {
      "text/plain": [
       "[5, 7, 9]"
      ]
     },
     "execution_count": 2,
     "metadata": {},
     "output_type": "execute_result"
    }
   ],
   "source": [
    "def add_lists(a: list[int], b: list[int]):\n",
    "  return list(map(lambda x, y: x + y, a, b))\n",
    "\n",
    "add_lists([1, 2, 3], [4, 5, 6])"
   ]
  },
  {
   "cell_type": "markdown",
   "id": "94863b95",
   "metadata": {},
   "source": [
    "## How is this used in FastAPI?\n",
    "\n",
    "**FastAPI** uses type hinting in order to accomplish things like:\n",
    "- Defining requirements for parameters, headers, bodies, dependencies\n",
    "- Converting data from the request to the required type\n",
    "- Validating data coming from a given request\n",
    "- Documenting the API using OpenAPI, a tool used by auto interactive documentation interfaces\n",
    "\n",
    "All of these things allow FastAPI to do more for you, more quickly!\n",
    "\n",
    "---"
   ]
  },
  {
   "cell_type": "markdown",
   "id": "5426e1f0",
   "metadata": {},
   "source": [
    "# Concurrency\n",
    "\n",
    "Python has the ability to run multiple things at the same time, or concurrently. This is accomplished using **async** and **await** syntax."
   ]
  },
  {
   "cell_type": "markdown",
   "id": "2aa9f75d",
   "metadata": {},
   "source": [
    "\n",
    "## Asynchronous Code\n",
    "\n",
    "This simply means that there are code blocks that are running simultaneously, usually used to allow the computer to continue other tasks while a slow task finishes.\n",
    "\n",
    "The opposite of this would be a **sequential** program, or one that runs code step by step and cannot run things at the same time. "
   ]
  },
  {
   "cell_type": "markdown",
   "id": "acec94c4",
   "metadata": {},
   "source": [
    "# Concurrency vs. Parallelism\n",
    "\n",
    "Concurrency, as discussed above, means that you can do other tasks while a slow one completes.\n",
    "\n",
    "Parallelism, on the other hand, means that two separate processing units are trying to work on the same thing. This is helpful when there's a lot of stuff to be done, but there usually isn't in FastAPI."
   ]
  },
  {
   "cell_type": "markdown",
   "id": "aaaa8f1d",
   "metadata": {},
   "source": [
    "## `async` and `await`\n",
    "\n",
    "These awesome keywords turn asynchronous code into very sequential looking code. for example, let's look at the following code:"
   ]
  },
  {
   "cell_type": "code",
   "execution_count": 3,
   "id": "1a5a0b65",
   "metadata": {},
   "outputs": [],
   "source": [
    "def get_person(name: str):\n",
    "  # makes a call to api or some other service here\n",
    "  return {\"name\": name}\n",
    "\n",
    "person = get_person(\"Javid\")"
   ]
  },
  {
   "cell_type": "markdown",
   "id": "a067eea9",
   "metadata": {},
   "source": [
    "In this code, we know that we need get person to run before we can run further code. Therefore, we can use asynchronous syntax to make this possible; `async def` and `await` will make this possible!"
   ]
  },
  {
   "cell_type": "code",
   "execution_count": 4,
   "id": "03483d6f",
   "metadata": {},
   "outputs": [],
   "source": [
    "async def get_person(name: str):\n",
    "  # makes a call to api or some other service here\n",
    "  return {\"name\": name}\n",
    "\n",
    "person = await get_person(\"Javid\")"
   ]
  },
  {
   "cell_type": "markdown",
   "id": "7084cf70",
   "metadata": {},
   "source": [
    "Now, the call to get_person will be waited for before doing anything with the person variable. "
   ]
  },
  {
   "cell_type": "markdown",
   "id": "fff221d5",
   "metadata": {},
   "source": [
    "# Environment Variables\n",
    "\n",
    "For the purposes of this notebook, I'm going to assume you know about environment variables. Just know they look like:\n",
    "\n",
    "`MY_ENV_VAR = 'boioioioioioing'`"
   ]
  },
  {
   "cell_type": "markdown",
   "id": "c1d2e60a",
   "metadata": {},
   "source": [
    "# Virtual Environments\n",
    "\n",
    "The last thing you need to start developing with FastAPI is a sandbox to start building in. \n",
    "\n",
    "In your directory you wish to house your project, run ```python -m venv .venv``` in order to create the virtual environment. Then, activate it using ```source .venv/bin/activate```You can check if it's active using `which python`. Last but definitely not least, you probably need to `pip install \"fastapi[standard]\"` (and install pip if you haven't already) and you're good to go!"
   ]
  },
  {
   "cell_type": "markdown",
   "id": "39f1a587",
   "metadata": {},
   "source": [
    "## Why Do I Need a Virtual Environment?\n",
    "\n",
    "You need VEs because you probably are going to make multiple projects with multiple dependency sets. If you don't need the same packages (and the same versions of the same packages) across multiple projects, don't install them in your global python environment!"
   ]
  }
 ],
 "metadata": {
  "kernelspec": {
   "display_name": ".venv",
   "language": "python",
   "name": "python3"
  },
  "language_info": {
   "codemirror_mode": {
    "name": "ipython",
    "version": 3
   },
   "file_extension": ".py",
   "mimetype": "text/x-python",
   "name": "python",
   "nbconvert_exporter": "python",
   "pygments_lexer": "ipython3",
   "version": "3.11.1"
  }
 },
 "nbformat": 4,
 "nbformat_minor": 5
}
