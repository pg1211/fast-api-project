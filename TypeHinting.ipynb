{
 "cells": [
  {
   "cell_type": "markdown",
   "id": "0a4a8848",
   "metadata": {},
   "source": [
    "# Types\n",
    "\n",
    "In this notebook, I will be running through the FastAPI Types tutorial and adding code snippets as needed. The main topics we will address are:\n",
    "\n",
    "- [What is Type Hinting?](#what-is-type-hinting)\n",
    "- [How is this used in FastAPI?](#how-is-this-used-in-fastapi)\n"
   ]
  },
  {
   "cell_type": "markdown",
   "id": "40e46d08",
   "metadata": {
    "vscode": {
     "languageId": "plaintext"
    }
   },
   "source": [
    "## What is Type Hinting?\n",
    "\n",
    "Observe the two following function definitions:"
   ]
  },
  {
   "cell_type": "code",
   "execution_count": null,
   "id": "220154eb",
   "metadata": {},
   "outputs": [],
   "source": [
    "# definition 1:\n",
    "def addition(a, b):\n",
    "  return a + b\n",
    "\n",
    "# definition 2:\n",
    "def addition_with_types(a: int, b: int):\n",
    "  return a + b"
   ]
  },
  {
   "cell_type": "markdown",
   "id": "1bbfe989",
   "metadata": {},
   "source": [
    "What's the difference? The **type hints**!\n",
    "\n",
    "stating that `a: int` allows us to specify that a *must* be an integer. This allows us to do a number of things, most notably in **autocomplete** and **error checking**. Note that you can also include generic types in type hints, such as the following:"
   ]
  },
  {
   "cell_type": "code",
   "execution_count": 2,
   "id": "7e2368b6",
   "metadata": {},
   "outputs": [
    {
     "data": {
      "text/plain": [
       "[5, 7, 9]"
      ]
     },
     "execution_count": 2,
     "metadata": {},
     "output_type": "execute_result"
    }
   ],
   "source": [
    "def add_lists(a: list[int], b: list[int]):\n",
    "  return list(map(lambda x, y: x + y, a, b))\n",
    "\n",
    "add_lists([1, 2, 3], [4, 5, 6])"
   ]
  },
  {
   "cell_type": "markdown",
   "id": "94863b95",
   "metadata": {},
   "source": [
    "## How is this used in FastAPI?"
   ]
  }
 ],
 "metadata": {
  "kernelspec": {
   "display_name": ".venv",
   "language": "python",
   "name": "python3"
  },
  "language_info": {
   "codemirror_mode": {
    "name": "ipython",
    "version": 3
   },
   "file_extension": ".py",
   "mimetype": "text/x-python",
   "name": "python",
   "nbconvert_exporter": "python",
   "pygments_lexer": "ipython3",
   "version": "3.11.1"
  }
 },
 "nbformat": 4,
 "nbformat_minor": 5
}
