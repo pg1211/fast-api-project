{
 "cells": [
  {
   "cell_type": "markdown",
   "id": "71621b23",
   "metadata": {},
   "source": [
    "# Table of Contents\n",
    "\n",
    "- [Basics!](#basics)"
   ]
  },
  {
   "cell_type": "markdown",
   "id": "8a6da631",
   "metadata": {},
   "source": [
    "# Basics!\n",
    "\n",
    "Important things you need to do once you have your virtual environment set up:\n",
    "\n",
    "1. Import `FastAPI`"
   ]
  },
  {
   "cell_type": "code",
   "execution_count": null,
   "id": "97f7d38b",
   "metadata": {},
   "outputs": [],
   "source": [
    "from fastapi import FastAPI"
   ]
  },
  {
   "cell_type": "markdown",
   "id": "49989cb3",
   "metadata": {},
   "source": [
    "2. Create a `fastAPI` instance"
   ]
  },
  {
   "cell_type": "code",
   "execution_count": null,
   "id": "21aae3b7",
   "metadata": {},
   "outputs": [],
   "source": [
    "app = FastAPI()"
   ]
  },
  {
   "cell_type": "markdown",
   "id": "8e4a67f4",
   "metadata": {},
   "source": [
    "3. Create a \"path operation\": \"path\" in this case refers to the URL following the first `/`.\n",
    "\n",
    "While building an API, this is how we can delineate between different functionality: these paths lead to \"endpoints\".\n",
    "\n",
    "The main operations we will be engaging with are:\n",
    "\n",
    "- `POST` &rarr; create data\n",
    "- `GET` &rarr; retrieve data\n",
    "- `PUT` &rarr; update data\n",
    "- `DELETE` &rarr; remove data\n",
    "\n",
    "Here, we will create a path operation decorator using a path and an operation!"
   ]
  },
  {
   "cell_type": "markdown",
   "id": "765ad11d",
   "metadata": {},
   "source": [
    "4. Then, we will create a path operation function:"
   ]
  },
  {
   "cell_type": "code",
   "execution_count": null,
   "id": "f3e496b9",
   "metadata": {},
   "outputs": [],
   "source": [
    "@app.get(\"/\")\n",
    "async def root():\n",
    "  return {\"message\": \"Hello World\"}"
   ]
  },
  {
   "cell_type": "markdown",
   "id": "693cc0a6",
   "metadata": {},
   "source": [
    "Note that the above function is a *python* function, meaning that a Python function is doing the actual retrieval of data.\n",
    "\n",
    "Finally, run the API call using `fastapi dev main.py`!\n",
    "\n",
    "---"
   ]
  },
  {
   "cell_type": "markdown",
   "id": "a8528b60",
   "metadata": {},
   "source": [
    "# Path Parameters\n",
    "\n",
    "Path parameters are used to capture values from the URL path. These parameters are declared in the function signature and are automatically extracted from the URL.\n",
    "\n",
    "For example, if you want to capture a specific `item_id` from the URL, you can define it as follows:"
   ]
  },
  {
   "cell_type": "code",
   "execution_count": null,
   "id": "95142b17",
   "metadata": {},
   "outputs": [],
   "source": [
    "from fastapi import FastAPI\n",
    "\n",
    "app = FastAPI()\n",
    "\n",
    "\n",
    "@app.get(\"/items/{item_id}\")\n",
    "async def read_item(item_id):\n",
    "    return {\"item_id\": item_id}"
   ]
  },
  {
   "cell_type": "markdown",
   "id": "930d7ae1",
   "metadata": {},
   "source": [
    "The value of path parameter `item_id` will be passed to your function as the argument `item_id`."
   ]
  }
 ],
 "metadata": {
  "language_info": {
   "name": "python"
  }
 },
 "nbformat": 4,
 "nbformat_minor": 5
}
